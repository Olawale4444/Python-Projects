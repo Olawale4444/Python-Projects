{
 "cells": [
  {
   "cell_type": "code",
   "execution_count": 31,
   "metadata": {
    "collapsed": true
   },
   "outputs": [],
   "source": [
    "grid = [ [5,3,0,0,7,0,0,0,0],\n",
    "         [6,0,0,1,9,5,0,0,0],\n",
    "         [0,9,8,0,0,0,0,6,0],\n",
    "         [8,0,0,0,6,0,0,0,3],\n",
    "         [4,0,0,8,0,3,0,0,1],\n",
    "         [7,0,0,0,2,0,0,0,6],\n",
    "         [0,6,0,0,0,0,2,8,0],\n",
    "         [0,0,0,4,1,9,0,0,5],\n",
    "         [0,0,0,0,8,0,0,7,9]  ]"
   ]
  },
  {
   "cell_type": "code",
   "execution_count": 32,
   "metadata": {},
   "outputs": [
    {
     "name": "stdout",
     "output_type": "stream",
     "text": [
      "[[5, 3, 0, 0, 7, 0, 0, 0, 0], [6, 0, 0, 1, 9, 5, 0, 0, 0], [0, 9, 8, 0, 0, 0, 0, 6, 0], [8, 0, 0, 0, 6, 0, 0, 0, 3], [4, 0, 0, 8, 0, 3, 0, 0, 1], [7, 0, 0, 0, 2, 0, 0, 0, 6], [0, 6, 0, 0, 0, 0, 2, 8, 0], [0, 0, 0, 4, 1, 9, 0, 0, 5], [0, 0, 0, 0, 8, 0, 0, 7, 9]]\n"
     ]
    }
   ],
   "source": [
    "print(grid)"
   ]
  },
  {
   "cell_type": "code",
   "execution_count": 33,
   "metadata": {
    "collapsed": true
   },
   "outputs": [],
   "source": [
    "import numpy as np"
   ]
  },
  {
   "cell_type": "code",
   "execution_count": 34,
   "metadata": {
    "scrolled": false
   },
   "outputs": [
    {
     "name": "stdout",
     "output_type": "stream",
     "text": [
      "[[5 3 0 0 7 0 0 0 0]\n",
      " [6 0 0 1 9 5 0 0 0]\n",
      " [0 9 8 0 0 0 0 6 0]\n",
      " [8 0 0 0 6 0 0 0 3]\n",
      " [4 0 0 8 0 3 0 0 1]\n",
      " [7 0 0 0 2 0 0 0 6]\n",
      " [0 6 0 0 0 0 2 8 0]\n",
      " [0 0 0 4 1 9 0 0 5]\n",
      " [0 0 0 0 8 0 0 7 9]]\n"
     ]
    }
   ],
   "source": [
    "print (np.matrix(grid))"
   ]
  },
  {
   "cell_type": "code",
   "execution_count": 35,
   "metadata": {},
   "outputs": [],
   "source": [
    "# x =4 \n",
    "# y= 4\n",
    "# x0 = round(4/3) =1 ,    1 *3 = 3\n",
    "#y0 = round(4/3) =1 ,     1*3 =3\n"
   ]
  },
  {
   "cell_type": "code",
   "execution_count": 36,
   "metadata": {
    "collapsed": true
   },
   "outputs": [],
   "source": [
    "def possible(y,x,n):\n",
    "    global grid\n",
    "    #checks for similarly occuring number on x axis\n",
    "    for i in range (0,9):\n",
    "        if grid[y][i] == n:\n",
    "            return False\n",
    "        \n",
    "    #This for loop checks for similarly occuring number on the y axis\n",
    "    for i in range (0,9):\n",
    "        if grid[i][x] == n:\n",
    "            return False\n",
    "\n",
    "    #Checks for surrounding 3x3 square for a similar occuring number\n",
    "    xSquareGrid = (x//3) * 3\n",
    "    ySquareGrid = (y//3) * 3\n",
    "    for i in range (0,3):\n",
    "        for j in range (0,3):\n",
    "            if grid[ySquareGrid+i][xSquareGrid +j]== n:\n",
    "                return False\n",
    "    return True"
   ]
  },
  {
   "cell_type": "code",
   "execution_count": 40,
   "metadata": {
    "collapsed": true
   },
   "outputs": [],
   "source": [
    "def solveSudoku():\n",
    "    global grid\n",
    "    for y in range(9):\n",
    "        for x in range (9):\n",
    "            if grid[y][x]== 0:\n",
    "                for n in range(1,10):\n",
    "                    \n",
    "                    #Calls the previous possible() function to check if a number in the range(1,10) can replace the zero,\n",
    "                    # and then replaces it if True.\n",
    "                    if possible(y,x,n):\n",
    "                        grid[y][x] = n\n",
    "                        #Recursively calls it self to backtrack.\n",
    "                        solveSudoku()\n",
    "                        grid[y][x] = 0\n",
    "                return\n",
    "    print(np.matrix(grid))\n",
    "    print('Done !')\n",
    "                "
   ]
  },
  {
   "cell_type": "code",
   "execution_count": 41,
   "metadata": {},
   "outputs": [
    {
     "name": "stdout",
     "output_type": "stream",
     "text": [
      "[[5 3 4 6 7 8 9 1 2]\n",
      " [6 7 2 1 9 5 3 4 8]\n",
      " [1 9 8 3 4 2 5 6 7]\n",
      " [8 5 9 7 6 1 4 2 3]\n",
      " [4 2 6 8 5 3 7 9 1]\n",
      " [7 1 3 9 2 4 8 5 6]\n",
      " [9 6 1 5 3 7 2 8 4]\n",
      " [2 8 7 4 1 9 6 3 5]\n",
      " [3 4 5 2 8 6 1 7 9]]\n",
      "Done !\n"
     ]
    }
   ],
   "source": [
    "solveSudoku()"
   ]
  },
  {
   "cell_type": "code",
   "execution_count": null,
   "metadata": {},
   "outputs": [],
   "source": []
  },
  {
   "cell_type": "code",
   "execution_count": null,
   "metadata": {
    "collapsed": true
   },
   "outputs": [],
   "source": []
  }
 ],
 "metadata": {
  "kernelspec": {
   "display_name": "Python 3",
   "language": "python",
   "name": "python3"
  },
  "language_info": {
   "codemirror_mode": {
    "name": "ipython",
    "version": 3
   },
   "file_extension": ".py",
   "mimetype": "text/x-python",
   "name": "python",
   "nbconvert_exporter": "python",
   "pygments_lexer": "ipython3",
   "version": "3.6.3"
  }
 },
 "nbformat": 4,
 "nbformat_minor": 2
}
